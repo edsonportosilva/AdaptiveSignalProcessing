{
 "cells": [
  {
   "cell_type": "code",
   "execution_count": 1,
   "id": "7163a4b0",
   "metadata": {
    "ExecuteTime": {
     "end_time": "2024-08-15T19:21:05.844839Z",
     "start_time": "2024-08-15T19:21:05.030935Z"
    }
   },
   "outputs": [],
   "source": [
    "if 'google.colab' in str(get_ipython()):    \n",
    "    ! git clone -b master https://github.com/edsonportosilva/adaptive-signal-processing\n",
    "    from os import chdir as cd\n",
    "    cd('/content/notebooks/')\n",
    "    ! pip install -e .\n",
    "    ! pip install SciencePlots\n",
    "\n",
    "import sympy as sp\n",
    "from sympy import latex\n",
    "import numpy as np\n",
    "from IPython.display import Math, Latex, display\n",
    "import matplotlib.pyplot as plt"
   ]
  },
  {
   "cell_type": "code",
   "execution_count": 20,
   "id": "de568888",
   "metadata": {
    "ExecuteTime": {
     "end_time": "2024-08-15T19:54:44.310065Z",
     "start_time": "2024-08-15T19:54:44.305078Z"
    }
   },
   "outputs": [],
   "source": [
    "from IPython.core.display import HTML\n",
    "from IPython.display import Image\n",
    "import scienceplots\n",
    "from utils import set_preferences, genConvGIF, symdisp, round_expr\n",
    "\n",
    "plt.style.use(['science','ieee'])\n",
    "set_preferences()\n",
    "\n",
    "plt.rcParams['figure.figsize'] = [5, 2.5]\n",
    "plt.rcParams['figure.dpi'] = 150\n",
    "\n",
    "saveFigures = True\n",
    "figurePath = 'G:\\\\Meu Drive\\\\DEE UFCG\\\\Disciplinas e ementas\\\\TEEE - Processamento adaptativo de sinais\\\\lecture notes\\\\figures\\\\'"
   ]
  },
  {
   "cell_type": "markdown",
   "id": "821d9661",
   "metadata": {},
   "source": [
    "# Adaptive Filtering Fundamentals"
   ]
  },
  {
   "cell_type": "markdown",
   "id": "e5131e9b",
   "metadata": {},
   "source": [
    "### Newton's Method for Optimization\n",
    "\n",
    "**Overview:**\n",
    "Newton's method is an iterative technique used to find the local maximum or minimum of a differentiable function. It leverages both the first and second derivatives (i.e., the gradient and Hessian) to achieve faster convergence compared to methods that only use the gradient, like gradient descent.\n",
    "\n",
    "**Mathematical Foundation:**\n",
    "\n",
    "For a twice-differentiable function $f(\\mathbf{x})$, Newton's method uses a second-order Taylor series approximation around a point $\\mathbf{x}_k$:\n",
    "\n",
    "$$\n",
    "f(\\mathbf{x}) \\approx f(\\mathbf{x}_k) + \\nabla f(\\mathbf{x}_k)^\\top (\\mathbf{x} - \\mathbf{x}_k) + \\frac{1}{2} (\\mathbf{x} - \\mathbf{x}_k)^\\top \\nabla^2 f(\\mathbf{x}_k) (\\mathbf{x} - \\mathbf{x}_k)\n",
    "$$\n",
    "\n",
    "Here:\n",
    "- $\\nabla f(\\mathbf{x}_k)$ is the gradient of $f$ at $\\mathbf{x}_k$.\n",
    "- $\\nabla^2 f(\\mathbf{x}_k)$ is the Hessian matrix of $f$ at $\\mathbf{x}_k$.\n",
    "\n",
    "The goal is to find the point $\\mathbf{x}_{k+1}$ where the gradient of $f(\\mathbf{x})$ is zero, indicating a local extremum.\n",
    "\n",
    "**Iteration Update:**\n",
    "Newton's method updates the point $\\mathbf{x}_k$ using the following rule:\n",
    "\n",
    "$$\n",
    "\\mathbf{x}_{k+1} = \\mathbf{x}_k - \\mathbf{H}_f^{-1}(\\mathbf{x}_k) \\nabla f(\\mathbf{x}_k)\n",
    "$$\n",
    "\n",
    "Where:\n",
    "- $\\mathbf{H}_f(\\mathbf{x}_k)$ is the Hessian matrix at $\\mathbf{x}_k$.\n",
    "- $\\mathbf{H}_f^{-1}(\\mathbf{x}_k)$ is the inverse of the Hessian matrix.\n",
    "- $\\nabla f(\\mathbf{x}_k)$ is the gradient at $\\mathbf{x}_k$.\n",
    "\n",
    "**Interpretation:**\n",
    "- **Gradient** $\\nabla f(\\mathbf{x}_k)$: Points in the direction of steepest ascent.\n",
    "- **Hessian** $\\mathbf{H}_f(\\mathbf{x}_k)$: Provides curvature information, allowing the method to adjust step sizes based on the landscape of the function.\n",
    "\n",
    "**Convergence:**\n",
    "- **Quadratic Convergence:** When close to a local optimum and assuming the Hessian is positive definite, Newton's method has quadratic convergence, meaning the error decreases exponentially.\n",
    "- **Potential Issues:** If the Hessian is not positive definite, the method may converge to a saddle point instead of a minimum. Additionally, calculating and inverting the Hessian can be computationally expensive for large problems.\n",
    "\n",
    "**Application:**\n",
    "Newton's method is effective for optimization problems where the function is well-behaved (i.e., smooth, with a well-defined second derivative). It is particularly useful in machine learning, physics, and engineering applications where precision is critical.\n",
    "\n",
    "### Example:"
   ]
  },
  {
   "cell_type": "code",
   "execution_count": 27,
   "id": "af8a4e5c",
   "metadata": {
    "ExecuteTime": {
     "end_time": "2024-08-15T20:08:22.509657Z",
     "start_time": "2024-08-15T20:08:20.731409Z"
    }
   },
   "outputs": [
    {
     "data": {
      "text/latex": [
       "$\\displaystyle f(x) = 0.8 x^{4} - x^{3} - 4 x^{2} + 10 x + 25\\;\\mathrm{ }$"
      ],
      "text/plain": [
       "<IPython.core.display.Math object>"
      ]
     },
     "metadata": {},
     "output_type": "display_data"
    },
    {
     "data": {
      "text/latex": [
       "$\\displaystyle \\frac{df(x)}{dx} = 3.2 x^{3} - 3 x^{2} - 8 x + 10\\;\\mathrm{ }$"
      ],
      "text/plain": [
       "<IPython.core.display.Math object>"
      ]
     },
     "metadata": {},
     "output_type": "display_data"
    },
    {
     "data": {
      "text/latex": [
       "$\\displaystyle \\frac{d^2f(x)}{dx^2} = 9.6 x^{2} - 6 x - 8\\;\\mathrm{ }$"
      ],
      "text/plain": [
       "<IPython.core.display.Math object>"
      ]
     },
     "metadata": {},
     "output_type": "display_data"
    },
    {
     "data": {
      "text/latex": [
       "$\\displaystyle iteration\\;0: x_k = 3.800\\mathrm{ }$"
      ],
      "text/plain": [
       "<IPython.core.display.Math object>"
      ]
     },
     "metadata": {},
     "output_type": "display_data"
    },
    {
     "data": {
      "text/latex": [
       "$\\displaystyle f(3.800 + u) = 53.912 u^{2} + 111.8704 u + 117.1789\\;\\mathrm{ }$"
      ],
      "text/plain": [
       "<IPython.core.display.Math object>"
      ]
     },
     "metadata": {},
     "output_type": "display_data"
    },
    {
     "data": {
      "text/latex": [
       "$\\displaystyle iteration\\;1: x_k = 2.762\\mathrm{ }$"
      ],
      "text/plain": [
       "<IPython.core.display.Math object>"
      ]
     },
     "metadata": {},
     "output_type": "display_data"
    },
    {
     "data": {
      "text/latex": [
       "$\\displaystyle f(2.762 + u) = 24.3426 u^{2} + 32.4661 u + 47.6074\\;\\mathrm{ }$"
      ],
      "text/plain": [
       "<IPython.core.display.Math object>"
      ]
     },
     "metadata": {},
     "output_type": "display_data"
    },
    {
     "data": {
      "text/latex": [
       "$\\displaystyle iteration\\;2: x_k = 2.096\\mathrm{ }$"
      ],
      "text/plain": [
       "<IPython.core.display.Math object>"
      ]
     },
     "metadata": {},
     "output_type": "display_data"
    },
    {
     "data": {
      "text/latex": [
       "$\\displaystyle f(2.096 + u) = 10.7928 u^{2} + 9.5102 u + 34.6156\\;\\mathrm{ }$"
      ],
      "text/plain": [
       "<IPython.core.display.Math object>"
      ]
     },
     "metadata": {},
     "output_type": "display_data"
    },
    {
     "data": {
      "text/latex": [
       "$\\displaystyle iteration\\;3: x_k = 1.655\\mathrm{ }$"
      ],
      "text/plain": [
       "<IPython.core.display.Math object>"
      ]
     },
     "metadata": {},
     "output_type": "display_data"
    },
    {
     "data": {
      "text/latex": [
       "$\\displaystyle f(1.655 + u) = 4.1828 u^{2} + 3.0491 u + 32.0627\\;\\mathrm{ }$"
      ],
      "text/plain": [
       "<IPython.core.display.Math object>"
      ]
     },
     "metadata": {},
     "output_type": "display_data"
    },
    {
     "data": {
      "text/latex": [
       "$\\displaystyle iteration\\;4: x_k = 1.291\\mathrm{ }$"
      ],
      "text/plain": [
       "<IPython.core.display.Math object>"
      ]
     },
     "metadata": {},
     "output_type": "display_data"
    },
    {
     "data": {
      "text/latex": [
       "$\\displaystyle f(1.291 + u) = 0.1229 u^{2} + 1.5572 u + 31.3132\\;\\mathrm{ }$"
      ],
      "text/plain": [
       "<IPython.core.display.Math object>"
      ]
     },
     "metadata": {},
     "output_type": "display_data"
    },
    {
     "data": {
      "text/latex": [
       "$\\displaystyle iteration\\;5: x_k = -5.046\\mathrm{ }$"
      ],
      "text/plain": [
       "<IPython.core.display.Math object>"
      ]
     },
     "metadata": {},
     "output_type": "display_data"
    },
    {
     "data": {
      "text/latex": [
       "$\\displaystyle f(-5.046 + u) = 133.3743 u^{2} - 437.2541 u + 519.9827\\;\\mathrm{ }$"
      ],
      "text/plain": [
       "<IPython.core.display.Math object>"
      ]
     },
     "metadata": {},
     "output_type": "display_data"
    },
    {
     "data": {
      "text/latex": [
       "$\\displaystyle iteration\\;6: x_k = -3.407\\mathrm{ }$"
      ],
      "text/plain": [
       "<IPython.core.display.Math object>"
      ]
     },
     "metadata": {},
     "output_type": "display_data"
    },
    {
     "data": {
      "text/latex": [
       "$\\displaystyle f(-3.407 + u) = 61.9432 u^{2} - 124.137 u + 91.8556\\;\\mathrm{ }$"
      ],
      "text/plain": [
       "<IPython.core.display.Math object>"
      ]
     },
     "metadata": {},
     "output_type": "display_data"
    },
    {
     "data": {
      "text/latex": [
       "$\\displaystyle iteration\\;7: x_k = -2.405\\mathrm{ }$"
      ],
      "text/plain": [
       "<IPython.core.display.Math object>"
      ]
     },
     "metadata": {},
     "output_type": "display_data"
    },
    {
     "data": {
      "text/latex": [
       "$\\displaystyle f(-2.405 + u) = 30.9817 u^{2} - 32.6339 u + 18.4926\\;\\mathrm{ }$"
      ],
      "text/plain": [
       "<IPython.core.display.Math object>"
      ]
     },
     "metadata": {},
     "output_type": "display_data"
    },
    {
     "data": {
      "text/latex": [
       "$\\displaystyle iteration\\;8: x_k = -1.878\\mathrm{ }$"
      ],
      "text/plain": [
       "<IPython.core.display.Math object>"
      ]
     },
     "metadata": {},
     "output_type": "display_data"
    },
    {
     "data": {
      "text/latex": [
       "$\\displaystyle f(-1.878 + u) = 18.5728 u^{2} - 6.769 u + 8.6902\\;\\mathrm{ }$"
      ],
      "text/plain": [
       "<IPython.core.display.Math object>"
      ]
     },
     "metadata": {},
     "output_type": "display_data"
    },
    {
     "data": {
      "text/latex": [
       "$\\displaystyle iteration\\;9: x_k = -1.696\\mathrm{ }$"
      ],
      "text/plain": [
       "<IPython.core.display.Math object>"
      ]
     },
     "metadata": {},
     "output_type": "display_data"
    },
    {
     "data": {
      "text/latex": [
       "$\\displaystyle f(-1.696 + u) = 14.8993 u^{2} - 0.6791 u + 8.0319\\;\\mathrm{ }$"
      ],
      "text/plain": [
       "<IPython.core.display.Math object>"
      ]
     },
     "metadata": {},
     "output_type": "display_data"
    },
    {
     "data": {
      "text/latex": [
       "$\\displaystyle iteration\\;10: x_k = -1.673\\mathrm{ }$"
      ],
      "text/plain": [
       "<IPython.core.display.Math object>"
      ]
     },
     "metadata": {},
     "output_type": "display_data"
    },
    {
     "data": {
      "text/latex": [
       "$\\displaystyle f(-1.673 + u) = 14.4623 u^{2} - 0.01 u + 8.0241\\;\\mathrm{ }$"
      ],
      "text/plain": [
       "<IPython.core.display.Math object>"
      ]
     },
     "metadata": {},
     "output_type": "display_data"
    },
    {
     "data": {
      "text/latex": [
       "$\\displaystyle iteration\\;11: x_k = -1.673\\mathrm{ }$"
      ],
      "text/plain": [
       "<IPython.core.display.Math object>"
      ]
     },
     "metadata": {},
     "output_type": "display_data"
    },
    {
     "data": {
      "text/latex": [
       "$\\displaystyle f(-1.673 + u) = 14.4558 u^{2} + 8.0241\\;\\mathrm{ }$"
      ],
      "text/plain": [
       "<IPython.core.display.Math object>"
      ]
     },
     "metadata": {},
     "output_type": "display_data"
    },
    {
     "name": "stdout",
     "output_type": "stream",
     "text": [
      "Convergence achieved after 11 iterations.\n",
      "Minimum value of f(x) = f(-1.673) = 8.024\n"
     ]
    },
    {
     "data": {
      "image/png": "[encoded data removed]",
      "text/plain": [
       "<Figure size 750x375 with 1 Axes>"
      ]
     },
     "metadata": {},
     "output_type": "display_data"
    }
   ],
   "source": [
    "x, u = sp.symbols('x, u', real=True)\n",
    "\n",
    "# Objective function\n",
    "f = 0.8*x**4 -x**3 - 4*x**2 + 10*x + 25 \n",
    "#f = 4*x**2 + 10*x + 25 \n",
    "symdisp('f(x) = ', f)\n",
    "\n",
    "# Calculate derivatives\n",
    "dfdx = sp.diff(f,x)\n",
    "d2fdx2 = sp.diff(dfdx,x)\n",
    "symdisp('\\\\frac{df(x)}{dx} = ', dfdx)\n",
    "symdisp('\\\\frac{d^2f(x)}{dx^2} = ', d2fdx2)\n",
    "\n",
    "domain = np.arange(-4, 4, 0.01)\n",
    "\n",
    "f_lamb = sp.lambdify(x, f)\n",
    "df_lamb = sp.lambdify(x, dfdx)\n",
    "d2f_lamb = sp.lambdify(x, d2fdx2)\n",
    "\n",
    "y = f_lamb(domain)\n",
    "plt.plot(domain, y,'--g', linewidth=1.5, label='$f(x)$')\n",
    "\n",
    "# Find extreme points of f(x) using Newton's method\n",
    "μ = 1                 # step size\n",
    "x0 = 3.8             # initial guess\n",
    "max_iterations = 50   # maximum number of iterations\n",
    "tol = 1e-4            # absolute tolerance\n",
    "\n",
    "domain_approx = np.arange(-3,3,0.1)  \n",
    "\n",
    "# Run iterations of Newton's algorithm\n",
    "xk = x0\n",
    "for k in range(max_iterations):\n",
    "    symdisp(f'iteration\\;{k}: x_k = {xk:.3f}', )\n",
    "    #print(f'iteration {k}: xk = {xk:.3f}')\n",
    "    if k == 0:\n",
    "        plt.plot(xk, f_lamb(xk),'ro', markersize=4, label='$x_0$')\n",
    "    elif k == max_iterations-1:\n",
    "        plt.plot(xk, f_lamb(xk),'bo', markersize=4, label=f'$x_{k}$')\n",
    "    else:\n",
    "        plt.plot(xk, f_lamb(xk),'ko', markersize=4)        \n",
    "    \n",
    "    # approximate f(x) with a quadratic function (parabola)\n",
    "    f_approx = f_lamb(xk) + df_lamb(xk)*u + (1/2)*d2f_lamb(xk)*u**2 \n",
    "    symdisp(f'f({xk:.3f} + u) = ', f_approx, numDig=4)\n",
    "    \n",
    "    # plot approximation at iteration k\n",
    "    f_approx_lamb = sp.lambdify(u, f_approx)    \n",
    "    plt.plot(domain_approx+xk, f_approx_lamb(domain_approx))\n",
    "        \n",
    "    xk_ = xk\n",
    "    \n",
    "    # Newton's algorithm update:\n",
    "    xk -= μ*df_lamb(xk)/d2f_lamb(xk)   \n",
    "    \n",
    "    # Stop iterations if tolerance is met\n",
    "    if np.abs(xk-xk_) < tol:\n",
    "        print(f'Convergence achieved after {k} iterations.')\n",
    "        plt.plot(xk, f_lamb(xk),'bo', markersize=4, label=f'$x_{{{k}}}$')\n",
    "        print(f'Minimum value of f(x) = f({xk:.3f}) = {f_lamb(xk):.3f}')\n",
    "        break\n",
    "        \n",
    "plt.ylim(0, y.max())\n",
    "plt.xlim(domain.min(), domain.max())\n",
    "plt.grid()\n",
    "plt.legend(loc='upper right')\n",
    "plt.xlabel('$x$')\n",
    "plt.ylabel('$f(x)$');    \n",
    "\n",
    "if saveFigures:\n",
    "    plt.savefig(figurePath + 'Newton_method_1D_example.png', dpi=600)"
   ]
  },
  {
   "cell_type": "code",
   "execution_count": null,
   "id": "23926f1b",
   "metadata": {},
   "outputs": [],
   "source": []
  }
 ],
 "metadata": {
  "kernelspec": {
   "display_name": "Python 3 (ipykernel)",
   "language": "python",
   "name": "python3"
  },
  "language_info": {
   "codemirror_mode": {
    "name": "ipython",
    "version": 3
   },
   "file_extension": ".py",
   "mimetype": "text/x-python",
   "name": "python",
   "nbconvert_exporter": "python",
   "pygments_lexer": "ipython3",
   "version": "3.11.5"
  }
 },
 "nbformat": 4,
 "nbformat_minor": 5
}
